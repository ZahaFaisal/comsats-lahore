{
 "cells": [
  {
   "cell_type": "code",
   "execution_count": 3,
   "id": "98f329d9-d35b-4e1a-8ceb-80f8d7172394",
   "metadata": {},
   "outputs": [],
   "source": [
    "# Practice Functions in Python\n",
    "# Q1 Simple Function"
   ]
  },
  {
   "cell_type": "code",
   "execution_count": 5,
   "id": "2423fd14-3879-4c02-b288-958181751d46",
   "metadata": {},
   "outputs": [
    {
     "name": "stdout",
     "output_type": "stream",
     "text": [
      "Hello Zaha, the current time is 2024-11-28 16:58:04.611318.\n"
     ]
    }
   ],
   "source": [
    "import datetime\n",
    "def greet_with_time(name):\n",
    "    current_time=datetime.datetime.now()\n",
    "    print(f\"Hello {name}, the current time is {current_time}.\")\n",
    "greet_with_time(\"Zaha\")\n"
   ]
  },
  {
   "cell_type": "code",
   "execution_count": 7,
   "id": "e8a21ad2-6677-4e3d-9df3-a86addee39aa",
   "metadata": {},
   "outputs": [
    {
     "name": "stdout",
     "output_type": "stream",
     "text": [
      "58.0\n"
     ]
    }
   ],
   "source": [
    "# Q2 Function with Multiple Parameters\n",
    "def calculate_average(num1,num2,num3):\n",
    "    average=(num1+num2+num3)/3\n",
    "    return average\n",
    "result=calculate_average(57,58,59)\n",
    "print(result)"
   ]
  },
  {
   "cell_type": "code",
   "execution_count": 8,
   "id": "921dff5c-b997-4cdc-b4f3-aa00e3b6e734",
   "metadata": {},
   "outputs": [
    {
     "name": "stdout",
     "output_type": "stream",
     "text": [
      "405.0\n"
     ]
    }
   ],
   "source": [
    "# Q3 Default Argument\n",
    "def calculate_discount(price, percentage):\n",
    "    discount=price-(price*percentage)\n",
    "    return discount\n",
    "price=calculate_discount(450,10/100)\n",
    "print(price)"
   ]
  },
  {
   "cell_type": "code",
   "execution_count": 9,
   "id": "c48b90ef-360e-4b88-83af-fa4a15c125bf",
   "metadata": {},
   "outputs": [
    {
     "name": "stdout",
     "output_type": "stream",
     "text": [
      "Name: Zaha\n",
      "Age: 18\n",
      "City: Lahore\n"
     ]
    }
   ],
   "source": [
    "# Q4 Keyword Arguments\n",
    "def print_info(name,age,city):\n",
    "    print(f\"Name: {name}\")\n",
    "    print(f\"Age: {age}\")\n",
    "    print(f\"City: {city}\")\n",
    "print_info(name=\"Zaha\",age=18,city=\"Lahore\")"
   ]
  },
  {
   "cell_type": "code",
   "execution_count": 10,
   "id": "fb1e140f-cd82-4d25-9306-f0490aeefbb7",
   "metadata": {},
   "outputs": [
    {
     "name": "stdout",
     "output_type": "stream",
     "text": [
      "84\n"
     ]
    }
   ],
   "source": [
    "# Q5 Variable-Length Arguments\n",
    "def find_max(*num):\n",
    "    value=max(num)\n",
    "    return value\n",
    "maximun_value=find_max(45,84,69,56)\n",
    "print(maximun_value)"
   ]
  },
  {
   "cell_type": "code",
   "execution_count": 11,
   "id": "20a38e9b-6a49-40fe-9bc2-0325968bc336",
   "metadata": {},
   "outputs": [
    {
     "name": "stdout",
     "output_type": "stream",
     "text": [
      "1307674368000\n"
     ]
    }
   ],
   "source": [
    "# Q6 Recursive Function\n",
    "def factorial(n):\n",
    "    if n<0:\n",
    "        print(\"Factorial not defined for negative number.\")\n",
    "    elif n==0 or n==1:\n",
    "        return 1\n",
    "    else:\n",
    "        return n*factorial(n-1)\n",
    "result=factorial(15)\n",
    "print(result)\n"
   ]
  },
  {
   "cell_type": "code",
   "execution_count": 12,
   "id": "5324acd3-ac2f-4ab4-83cd-61ca7b69df1f",
   "metadata": {},
   "outputs": [
    {
     "name": "stdout",
     "output_type": "stream",
     "text": [
      "[8, 27, 125, 343, 1331]\n"
     ]
    }
   ],
   "source": [
    "# Q7 Function as an Argument\n",
    "def apply_function(func, numbers):\n",
    "    list=[]\n",
    "    for num in numbers:\n",
    "        data=func(num)\n",
    "        list.append(data)\n",
    "    return list\n",
    "def cube(i):\n",
    "    return i**3\n",
    "numbers=[2,3,5,7,11]\n",
    "numbers_cubes=apply_function(cube, numbers)\n",
    "print(numbers_cubes)"
   ]
  },
  {
   "cell_type": "code",
   "execution_count": 13,
   "id": "f2f68ec1-1118-4e75-b37e-2bab9f1bffce",
   "metadata": {},
   "outputs": [
    {
     "name": "stdout",
     "output_type": "stream",
     "text": [
      "49\n"
     ]
    }
   ],
   "source": [
    "# Q8 Lambda Function\n",
    "square = lambda x: x ** 2\n",
    "result=square(7)\n",
    "print(result)"
   ]
  },
  {
   "cell_type": "code",
   "execution_count": 14,
   "id": "cce6699b-3b0e-40e8-b048-43d1d6865f26",
   "metadata": {},
   "outputs": [
    {
     "name": "stdout",
     "output_type": "stream",
     "text": [
      "[1, 16, 49, 100]\n"
     ]
    }
   ],
   "source": [
    "# Q9 Higher_order Function\n",
    "def apply_operation(func, numbers):\n",
    "    list=[]\n",
    "    for num in numbers:\n",
    "        data=func(num)\n",
    "        list.append(data)\n",
    "    return list\n",
    "def square(i):\n",
    "    return i**2\n",
    "numbers=[1,4,7,10]\n",
    "numbers_squares=apply_operation(square,numbers)\n",
    "print(numbers_squares)"
   ]
  },
  {
   "cell_type": "code",
   "execution_count": 15,
   "id": "af61aa99-2b44-43f5-83c2-ef3c08ab24fe",
   "metadata": {},
   "outputs": [
    {
     "name": "stdout",
     "output_type": "stream",
     "text": [
      "Execution_time: 0.00214 seconds\n",
      "Result: 49995000\n"
     ]
    }
   ],
   "source": [
    "# Q10 Function Decorators\n",
    "import time\n",
    "def measure_execution_time(func):\n",
    "    def wrapper(*args,**kwargs):\n",
    "        start_time=time.time()\n",
    "        result=func(*args,**kwargs)\n",
    "        end_time=time.time()\n",
    "        execution_time=end_time-start_time\n",
    "        print(f\"Execution_time: {execution_time:.5f} seconds\")\n",
    "        return result\n",
    "    return wrapper\n",
    "@measure_execution_time\n",
    "def my_function(n):\n",
    "    total=0\n",
    "    for i in range(n):\n",
    "        total+=i\n",
    "    return total\n",
    "result=my_function(10000)\n",
    "print(\"Result:\",result)"
   ]
  },
  {
   "cell_type": "code",
   "execution_count": null,
   "id": "65126b70-f936-445a-b353-675d3416f4ad",
   "metadata": {},
   "outputs": [],
   "source": []
  }
 ],
 "metadata": {
  "kernelspec": {
   "display_name": "Python 3 (ipykernel)",
   "language": "python",
   "name": "python3"
  },
  "language_info": {
   "codemirror_mode": {
    "name": "ipython",
    "version": 3
   },
   "file_extension": ".py",
   "mimetype": "text/x-python",
   "name": "python",
   "nbconvert_exporter": "python",
   "pygments_lexer": "ipython3",
   "version": "3.12.4"
  }
 },
 "nbformat": 4,
 "nbformat_minor": 5
}
